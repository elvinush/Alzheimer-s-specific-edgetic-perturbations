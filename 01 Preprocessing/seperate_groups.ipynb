{
 "cells": [
  {
   "cell_type": "code",
   "execution_count": 565,
   "metadata": {},
   "outputs": [],
   "source": [
    "#This code seperates diseased and healthy groups before imputation, so they can be imputed seperately.\n",
    "\n",
    "import numpy as np\n",
    "import pandas as pd"
   ]
  },
  {
   "cell_type": "code",
   "execution_count": 567,
   "metadata": {},
   "outputs": [
    {
     "data": {
      "text/html": [
       "<div>\n",
       "<style scoped>\n",
       "    .dataframe tbody tr th:only-of-type {\n",
       "        vertical-align: middle;\n",
       "    }\n",
       "\n",
       "    .dataframe tbody tr th {\n",
       "        vertical-align: top;\n",
       "    }\n",
       "\n",
       "    .dataframe thead th {\n",
       "        text-align: right;\n",
       "    }\n",
       "</style>\n",
       "<table border=\"1\" class=\"dataframe\">\n",
       "  <thead>\n",
       "    <tr style=\"text-align: right;\">\n",
       "      <th></th>\n",
       "      <th>protein IDs</th>\n",
       "      <th>P43320</th>\n",
       "      <th>P04049</th>\n",
       "      <th>P51814</th>\n",
       "      <th>P19419</th>\n",
       "      <th>P43080</th>\n",
       "      <th>Q14457</th>\n",
       "      <th>Q01968</th>\n",
       "      <th>O95238</th>\n",
       "      <th>Q99LC4</th>\n",
       "      <th>...</th>\n",
       "      <th>Q7Z408</th>\n",
       "      <th>Q9NYJ7</th>\n",
       "      <th>Q8N3Z0</th>\n",
       "      <th>Q96EC8</th>\n",
       "      <th>Q8N729</th>\n",
       "      <th>Q50LG9</th>\n",
       "      <th>O43296</th>\n",
       "      <th>P51164</th>\n",
       "      <th>P33316</th>\n",
       "      <th>O14896</th>\n",
       "    </tr>\n",
       "  </thead>\n",
       "  <tbody>\n",
       "    <tr>\n",
       "      <th>0</th>\n",
       "      <td>Soma38429</td>\n",
       "      <td>3.39955</td>\n",
       "      <td>3.458494</td>\n",
       "      <td>3.409342</td>\n",
       "      <td>3.353461</td>\n",
       "      <td>3.366757</td>\n",
       "      <td>3.395421</td>\n",
       "      <td>3.505253</td>\n",
       "      <td>3.456582</td>\n",
       "      <td>3.323162</td>\n",
       "      <td>...</td>\n",
       "      <td>3.709157</td>\n",
       "      <td>3.254715</td>\n",
       "      <td>3.279869</td>\n",
       "      <td>3.473957</td>\n",
       "      <td>3.565436</td>\n",
       "      <td>3.501308</td>\n",
       "      <td>3.467126</td>\n",
       "      <td>3.553388</td>\n",
       "      <td>3.655923</td>\n",
       "      <td>3.506077</td>\n",
       "    </tr>\n",
       "    <tr>\n",
       "      <th>1</th>\n",
       "      <td>Soma40545</td>\n",
       "      <td>3.407565</td>\n",
       "      <td>3.438314</td>\n",
       "      <td>3.420048</td>\n",
       "      <td>3.355491</td>\n",
       "      <td>3.384719</td>\n",
       "      <td>3.400851</td>\n",
       "      <td>3.507891</td>\n",
       "      <td>3.468653</td>\n",
       "      <td>3.31612</td>\n",
       "      <td>...</td>\n",
       "      <td>3.666805</td>\n",
       "      <td>3.261653</td>\n",
       "      <td>3.280009</td>\n",
       "      <td>3.481511</td>\n",
       "      <td>3.540239</td>\n",
       "      <td>3.50897</td>\n",
       "      <td>3.47495</td>\n",
       "      <td>3.560672</td>\n",
       "      <td>3.640159</td>\n",
       "      <td>3.512806</td>\n",
       "    </tr>\n",
       "    <tr>\n",
       "      <th>2</th>\n",
       "      <td>Soma41236</td>\n",
       "      <td>3.43894</td>\n",
       "      <td>3.457215</td>\n",
       "      <td>3.418481</td>\n",
       "      <td>3.345257</td>\n",
       "      <td>3.369697</td>\n",
       "      <td>3.392844</td>\n",
       "      <td>3.51095</td>\n",
       "      <td>3.459955</td>\n",
       "      <td>3.33482</td>\n",
       "      <td>...</td>\n",
       "      <td>3.693344</td>\n",
       "      <td>3.266287</td>\n",
       "      <td>3.282945</td>\n",
       "      <td>3.470548</td>\n",
       "      <td>3.494299</td>\n",
       "      <td>3.493608</td>\n",
       "      <td>3.465526</td>\n",
       "      <td>3.556872</td>\n",
       "      <td>3.655398</td>\n",
       "      <td>3.514908</td>\n",
       "    </tr>\n",
       "    <tr>\n",
       "      <th>3</th>\n",
       "      <td>Soma42729</td>\n",
       "      <td>3.398083</td>\n",
       "      <td>3.464614</td>\n",
       "      <td>3.408155</td>\n",
       "      <td>3.34107</td>\n",
       "      <td>3.354961</td>\n",
       "      <td>3.398301</td>\n",
       "      <td>3.515098</td>\n",
       "      <td>3.457675</td>\n",
       "      <td>3.322537</td>\n",
       "      <td>...</td>\n",
       "      <td>3.711913</td>\n",
       "      <td>3.2506</td>\n",
       "      <td>3.272963</td>\n",
       "      <td>3.466623</td>\n",
       "      <td>3.462506</td>\n",
       "      <td>3.490813</td>\n",
       "      <td>3.464252</td>\n",
       "      <td>3.543041</td>\n",
       "      <td>3.658154</td>\n",
       "      <td>3.477899</td>\n",
       "    </tr>\n",
       "    <tr>\n",
       "      <th>4</th>\n",
       "      <td>Soma43738</td>\n",
       "      <td>3.399659</td>\n",
       "      <td>3.423356</td>\n",
       "      <td>3.405651</td>\n",
       "      <td>3.345843</td>\n",
       "      <td>3.363734</td>\n",
       "      <td>3.387565</td>\n",
       "      <td>3.501807</td>\n",
       "      <td>3.462448</td>\n",
       "      <td>3.320511</td>\n",
       "      <td>...</td>\n",
       "      <td>3.653322</td>\n",
       "      <td>3.258888</td>\n",
       "      <td>3.275836</td>\n",
       "      <td>3.466642</td>\n",
       "      <td>3.370976</td>\n",
       "      <td>3.48506</td>\n",
       "      <td>3.461726</td>\n",
       "      <td>3.551424</td>\n",
       "      <td>3.617931</td>\n",
       "      <td>3.506198</td>\n",
       "    </tr>\n",
       "  </tbody>\n",
       "</table>\n",
       "<p>5 rows × 6394 columns</p>\n",
       "</div>"
      ],
      "text/plain": [
       "  protein IDs    P43320    P04049    P51814    P19419    P43080    Q14457  \\\n",
       "0   Soma38429   3.39955  3.458494  3.409342  3.353461  3.366757  3.395421   \n",
       "1   Soma40545  3.407565  3.438314  3.420048  3.355491  3.384719  3.400851   \n",
       "2   Soma41236   3.43894  3.457215  3.418481  3.345257  3.369697  3.392844   \n",
       "3   Soma42729  3.398083  3.464614  3.408155   3.34107  3.354961  3.398301   \n",
       "4   Soma43738  3.399659  3.423356  3.405651  3.345843  3.363734  3.387565   \n",
       "\n",
       "     Q01968    O95238    Q99LC4  ...    Q7Z408    Q9NYJ7    Q8N3Z0    Q96EC8  \\\n",
       "0  3.505253  3.456582  3.323162  ...  3.709157  3.254715  3.279869  3.473957   \n",
       "1  3.507891  3.468653   3.31612  ...  3.666805  3.261653  3.280009  3.481511   \n",
       "2   3.51095  3.459955   3.33482  ...  3.693344  3.266287  3.282945  3.470548   \n",
       "3  3.515098  3.457675  3.322537  ...  3.711913    3.2506  3.272963  3.466623   \n",
       "4  3.501807  3.462448  3.320511  ...  3.653322  3.258888  3.275836  3.466642   \n",
       "\n",
       "     Q8N729    Q50LG9    O43296    P51164    P33316    O14896  \n",
       "0  3.565436  3.501308  3.467126  3.553388  3.655923  3.506077  \n",
       "1  3.540239   3.50897   3.47495  3.560672  3.640159  3.512806  \n",
       "2  3.494299  3.493608  3.465526  3.556872  3.655398  3.514908  \n",
       "3  3.462506  3.490813  3.464252  3.543041  3.658154  3.477899  \n",
       "4  3.370976   3.48506  3.461726  3.551424  3.617931  3.506198  \n",
       "\n",
       "[5 rows x 6394 columns]"
      ]
     },
     "execution_count": 567,
     "metadata": {},
     "output_type": "execute_result"
    }
   ],
   "source": [
    "#Read the dataset and transform (if necessary)\n",
    "\n",
    "df = pd.read_csv(r\"C:\\Users\\elvka\\.Desktopreal\\university\\Thesis\\Data\\CSF\\SomaScan\\syn30549757_Somascan_norm.csv\")\n",
    "\n",
    "df = df.T\n",
    "df.columns = df.iloc[0]\n",
    "df = df.drop(['protein IDs'])\n",
    "df = df.reset_index()\n",
    "df = df.rename(columns={'index': 'protein IDs'})\n",
    "df.columns.name = None\n",
    "\n",
    "df.head()"
   ]
  },
  {
   "cell_type": "code",
   "execution_count": 568,
   "metadata": {},
   "outputs": [],
   "source": [
    "#Replace 0 with nan\n",
    "\n",
    "df.replace(0, np.nan, inplace=True)"
   ]
  },
  {
   "cell_type": "code",
   "execution_count": 569,
   "metadata": {},
   "outputs": [
    {
     "data": {
      "text/plain": [
       "(36, 6394)"
      ]
     },
     "execution_count": 569,
     "metadata": {},
     "output_type": "execute_result"
    }
   ],
   "source": [
    "df.shape"
   ]
  },
  {
   "cell_type": "code",
   "execution_count": 570,
   "metadata": {},
   "outputs": [
    {
     "name": "stdout",
     "output_type": "stream",
     "text": [
      "36\n"
     ]
    }
   ],
   "source": [
    "#Check number of rows\n",
    "\n",
    "print(len(df))"
   ]
  },
  {
   "cell_type": "code",
   "execution_count": 571,
   "metadata": {},
   "outputs": [],
   "source": [
    "#Remove proteins with only null values\n",
    "\n",
    "df = df.dropna(axis=1, how='all')"
   ]
  },
  {
   "cell_type": "code",
   "execution_count": 572,
   "metadata": {},
   "outputs": [
    {
     "data": {
      "text/plain": [
       "(36, 6394)"
      ]
     },
     "execution_count": 572,
     "metadata": {},
     "output_type": "execute_result"
    }
   ],
   "source": [
    "df.shape"
   ]
  },
  {
   "cell_type": "code",
   "execution_count": 574,
   "metadata": {},
   "outputs": [],
   "source": [
    "#Seperate groups into AD and CTL"
   ]
  },
  {
   "cell_type": "code",
   "execution_count": 575,
   "metadata": {},
   "outputs": [
    {
     "data": {
      "text/html": [
       "<div>\n",
       "<style scoped>\n",
       "    .dataframe tbody tr th:only-of-type {\n",
       "        vertical-align: middle;\n",
       "    }\n",
       "\n",
       "    .dataframe tbody tr th {\n",
       "        vertical-align: top;\n",
       "    }\n",
       "\n",
       "    .dataframe thead th {\n",
       "        text-align: right;\n",
       "    }\n",
       "</style>\n",
       "<table border=\"1\" class=\"dataframe\">\n",
       "  <thead>\n",
       "    <tr style=\"text-align: right;\">\n",
       "      <th></th>\n",
       "      <th>batch.channel</th>\n",
       "      <th>Group</th>\n",
       "      <th>sex</th>\n",
       "      <th>age</th>\n",
       "      <th>Abeta42</th>\n",
       "      <th>tTau</th>\n",
       "      <th>pTau</th>\n",
       "      <th>batch</th>\n",
       "      <th>study</th>\n",
       "    </tr>\n",
       "  </thead>\n",
       "  <tbody>\n",
       "    <tr>\n",
       "      <th>0</th>\n",
       "      <td>Soma38429</td>\n",
       "      <td>Control</td>\n",
       "      <td>1</td>\n",
       "      <td>81</td>\n",
       "      <td>608.817432</td>\n",
       "      <td>76.197892</td>\n",
       "      <td>40.073875</td>\n",
       "      <td>1</td>\n",
       "      <td>syn30549757</td>\n",
       "    </tr>\n",
       "    <tr>\n",
       "      <th>1</th>\n",
       "      <td>Soma40545</td>\n",
       "      <td>Control</td>\n",
       "      <td>1</td>\n",
       "      <td>76</td>\n",
       "      <td>492.435773</td>\n",
       "      <td>40.221389</td>\n",
       "      <td>19.357669</td>\n",
       "      <td>1</td>\n",
       "      <td>syn30549757</td>\n",
       "    </tr>\n",
       "    <tr>\n",
       "      <th>2</th>\n",
       "      <td>Soma41236</td>\n",
       "      <td>Control</td>\n",
       "      <td>1</td>\n",
       "      <td>67</td>\n",
       "      <td>745.793295</td>\n",
       "      <td>54.892674</td>\n",
       "      <td>28.152655</td>\n",
       "      <td>1</td>\n",
       "      <td>syn30549757</td>\n",
       "    </tr>\n",
       "    <tr>\n",
       "      <th>3</th>\n",
       "      <td>Soma42729</td>\n",
       "      <td>Control</td>\n",
       "      <td>1</td>\n",
       "      <td>61</td>\n",
       "      <td>663.707993</td>\n",
       "      <td>61.886366</td>\n",
       "      <td>49.255774</td>\n",
       "      <td>1</td>\n",
       "      <td>syn30549757</td>\n",
       "    </tr>\n",
       "    <tr>\n",
       "      <th>4</th>\n",
       "      <td>Soma43738</td>\n",
       "      <td>Control</td>\n",
       "      <td>0</td>\n",
       "      <td>70</td>\n",
       "      <td>524.140493</td>\n",
       "      <td>25.941459</td>\n",
       "      <td>21.771318</td>\n",
       "      <td>1</td>\n",
       "      <td>syn30549757</td>\n",
       "    </tr>\n",
       "  </tbody>\n",
       "</table>\n",
       "</div>"
      ],
      "text/plain": [
       "  batch.channel    Group  sex  age     Abeta42       tTau       pTau  batch  \\\n",
       "0     Soma38429  Control    1   81  608.817432  76.197892  40.073875      1   \n",
       "1     Soma40545  Control    1   76  492.435773  40.221389  19.357669      1   \n",
       "2     Soma41236  Control    1   67  745.793295  54.892674  28.152655      1   \n",
       "3     Soma42729  Control    1   61  663.707993  61.886366  49.255774      1   \n",
       "4     Soma43738  Control    0   70  524.140493  25.941459  21.771318      1   \n",
       "\n",
       "         study  \n",
       "0  syn30549757  \n",
       "1  syn30549757  \n",
       "2  syn30549757  \n",
       "3  syn30549757  \n",
       "4  syn30549757  "
      ]
     },
     "execution_count": 575,
     "metadata": {},
     "output_type": "execute_result"
    }
   ],
   "source": [
    "#Read sampletraits\n",
    "\n",
    "df2 = pd.read_csv(r\"C:\\Users\\elvka\\.Desktopreal\\university\\Thesis\\Data\\CSF\\SomaScan\\syn30549757_Somascan_clinical.csv\")\n",
    "df2.head()"
   ]
  },
  {
   "cell_type": "code",
   "execution_count": 576,
   "metadata": {},
   "outputs": [
    {
     "name": "stdout",
     "output_type": "stream",
     "text": [
      "18\n"
     ]
    }
   ],
   "source": [
    "#Isolate sampletraits AD\n",
    "\n",
    "df2_ad = df2[df2['Group'] == 'AD']\n",
    "\n",
    "print(len(df2_ad))"
   ]
  },
  {
   "cell_type": "code",
   "execution_count": 577,
   "metadata": {},
   "outputs": [
    {
     "name": "stdout",
     "output_type": "stream",
     "text": [
      "18\n"
     ]
    }
   ],
   "source": [
    "#Isolate abundance AD\n",
    "\n",
    "df_ad = df[df['protein IDs'].isin(df2_ad['batch.channel'])]\n",
    "\n",
    "print(len(df_ad))"
   ]
  },
  {
   "cell_type": "code",
   "execution_count": 578,
   "metadata": {},
   "outputs": [
    {
     "name": "stdout",
     "output_type": "stream",
     "text": [
      "18\n"
     ]
    }
   ],
   "source": [
    "#Isolate sampletraits CTL\n",
    "df2_ctl = df2[df2['Group'] == 'Control']\n",
    "\n",
    "print(len(df2_ctl))"
   ]
  },
  {
   "cell_type": "code",
   "execution_count": 579,
   "metadata": {},
   "outputs": [
    {
     "name": "stdout",
     "output_type": "stream",
     "text": [
      "18\n"
     ]
    }
   ],
   "source": [
    "#Isolate abundance CTL\n",
    "\n",
    "df_ctl = df[df['protein IDs'].isin(df2_ctl['batch.channel'])]\n",
    "\n",
    "print(len(df_ctl))"
   ]
  },
  {
   "cell_type": "code",
   "execution_count": 580,
   "metadata": {},
   "outputs": [
    {
     "data": {
      "text/html": [
       "<div>\n",
       "<style scoped>\n",
       "    .dataframe tbody tr th:only-of-type {\n",
       "        vertical-align: middle;\n",
       "    }\n",
       "\n",
       "    .dataframe tbody tr th {\n",
       "        vertical-align: top;\n",
       "    }\n",
       "\n",
       "    .dataframe thead th {\n",
       "        text-align: right;\n",
       "    }\n",
       "</style>\n",
       "<table border=\"1\" class=\"dataframe\">\n",
       "  <thead>\n",
       "    <tr style=\"text-align: right;\">\n",
       "      <th></th>\n",
       "      <th>protein IDs</th>\n",
       "      <th>P43320</th>\n",
       "      <th>P04049</th>\n",
       "      <th>P51814</th>\n",
       "      <th>P19419</th>\n",
       "      <th>P43080</th>\n",
       "      <th>Q14457</th>\n",
       "      <th>Q01968</th>\n",
       "      <th>O95238</th>\n",
       "      <th>Q99LC4</th>\n",
       "      <th>...</th>\n",
       "      <th>Q7Z408</th>\n",
       "      <th>Q9NYJ7</th>\n",
       "      <th>Q8N3Z0</th>\n",
       "      <th>Q96EC8</th>\n",
       "      <th>Q8N729</th>\n",
       "      <th>Q50LG9</th>\n",
       "      <th>O43296</th>\n",
       "      <th>P51164</th>\n",
       "      <th>P33316</th>\n",
       "      <th>O14896</th>\n",
       "    </tr>\n",
       "  </thead>\n",
       "  <tbody>\n",
       "    <tr>\n",
       "      <th>6</th>\n",
       "      <td>Soma43913</td>\n",
       "      <td>3.409319</td>\n",
       "      <td>3.474515</td>\n",
       "      <td>3.425877</td>\n",
       "      <td>3.35633</td>\n",
       "      <td>3.380976</td>\n",
       "      <td>3.4023</td>\n",
       "      <td>3.511721</td>\n",
       "      <td>3.4652</td>\n",
       "      <td>3.326927</td>\n",
       "      <td>...</td>\n",
       "      <td>3.678193</td>\n",
       "      <td>3.253387</td>\n",
       "      <td>3.279475</td>\n",
       "      <td>3.473716</td>\n",
       "      <td>3.434507</td>\n",
       "      <td>3.502196</td>\n",
       "      <td>3.47284</td>\n",
       "      <td>3.556785</td>\n",
       "      <td>3.667282</td>\n",
       "      <td>3.462337</td>\n",
       "    </tr>\n",
       "    <tr>\n",
       "      <th>7</th>\n",
       "      <td>Soma43981</td>\n",
       "      <td>3.405203</td>\n",
       "      <td>3.460881</td>\n",
       "      <td>3.434172</td>\n",
       "      <td>3.341205</td>\n",
       "      <td>3.373963</td>\n",
       "      <td>3.407136</td>\n",
       "      <td>3.51069</td>\n",
       "      <td>3.471632</td>\n",
       "      <td>3.326579</td>\n",
       "      <td>...</td>\n",
       "      <td>3.658759</td>\n",
       "      <td>3.266945</td>\n",
       "      <td>3.280473</td>\n",
       "      <td>3.492843</td>\n",
       "      <td>3.42711</td>\n",
       "      <td>3.511388</td>\n",
       "      <td>3.477531</td>\n",
       "      <td>3.565996</td>\n",
       "      <td>3.634459</td>\n",
       "      <td>3.456981</td>\n",
       "    </tr>\n",
       "    <tr>\n",
       "      <th>8</th>\n",
       "      <td>Soma44073</td>\n",
       "      <td>3.408358</td>\n",
       "      <td>3.46343</td>\n",
       "      <td>3.409824</td>\n",
       "      <td>3.351532</td>\n",
       "      <td>3.372188</td>\n",
       "      <td>3.399619</td>\n",
       "      <td>3.516899</td>\n",
       "      <td>3.466574</td>\n",
       "      <td>3.323213</td>\n",
       "      <td>...</td>\n",
       "      <td>3.677693</td>\n",
       "      <td>3.259028</td>\n",
       "      <td>3.272213</td>\n",
       "      <td>3.47283</td>\n",
       "      <td>3.497169</td>\n",
       "      <td>3.506761</td>\n",
       "      <td>3.470602</td>\n",
       "      <td>3.552667</td>\n",
       "      <td>3.655164</td>\n",
       "      <td>3.505251</td>\n",
       "    </tr>\n",
       "    <tr>\n",
       "      <th>9</th>\n",
       "      <td>Soma44436</td>\n",
       "      <td>3.430683</td>\n",
       "      <td>3.456901</td>\n",
       "      <td>3.438804</td>\n",
       "      <td>3.337726</td>\n",
       "      <td>3.383207</td>\n",
       "      <td>3.41227</td>\n",
       "      <td>3.513973</td>\n",
       "      <td>3.47655</td>\n",
       "      <td>3.34218</td>\n",
       "      <td>...</td>\n",
       "      <td>3.653981</td>\n",
       "      <td>3.275225</td>\n",
       "      <td>3.300334</td>\n",
       "      <td>3.488475</td>\n",
       "      <td>3.466742</td>\n",
       "      <td>3.520682</td>\n",
       "      <td>3.500845</td>\n",
       "      <td>3.579271</td>\n",
       "      <td>3.630776</td>\n",
       "      <td>3.417811</td>\n",
       "    </tr>\n",
       "    <tr>\n",
       "      <th>11</th>\n",
       "      <td>Soma44498</td>\n",
       "      <td>3.423301</td>\n",
       "      <td>3.454202</td>\n",
       "      <td>3.430312</td>\n",
       "      <td>3.353001</td>\n",
       "      <td>3.389717</td>\n",
       "      <td>3.414553</td>\n",
       "      <td>3.522062</td>\n",
       "      <td>3.494759</td>\n",
       "      <td>3.334251</td>\n",
       "      <td>...</td>\n",
       "      <td>3.643835</td>\n",
       "      <td>3.256767</td>\n",
       "      <td>3.283039</td>\n",
       "      <td>3.491109</td>\n",
       "      <td>3.518507</td>\n",
       "      <td>3.532498</td>\n",
       "      <td>3.486715</td>\n",
       "      <td>3.57101</td>\n",
       "      <td>3.637765</td>\n",
       "      <td>3.43084</td>\n",
       "    </tr>\n",
       "  </tbody>\n",
       "</table>\n",
       "<p>5 rows × 6394 columns</p>\n",
       "</div>"
      ],
      "text/plain": [
       "   protein IDs    P43320    P04049    P51814    P19419    P43080    Q14457  \\\n",
       "6    Soma43913  3.409319  3.474515  3.425877   3.35633  3.380976    3.4023   \n",
       "7    Soma43981  3.405203  3.460881  3.434172  3.341205  3.373963  3.407136   \n",
       "8    Soma44073  3.408358   3.46343  3.409824  3.351532  3.372188  3.399619   \n",
       "9    Soma44436  3.430683  3.456901  3.438804  3.337726  3.383207   3.41227   \n",
       "11   Soma44498  3.423301  3.454202  3.430312  3.353001  3.389717  3.414553   \n",
       "\n",
       "      Q01968    O95238    Q99LC4  ...    Q7Z408    Q9NYJ7    Q8N3Z0    Q96EC8  \\\n",
       "6   3.511721    3.4652  3.326927  ...  3.678193  3.253387  3.279475  3.473716   \n",
       "7    3.51069  3.471632  3.326579  ...  3.658759  3.266945  3.280473  3.492843   \n",
       "8   3.516899  3.466574  3.323213  ...  3.677693  3.259028  3.272213   3.47283   \n",
       "9   3.513973   3.47655   3.34218  ...  3.653981  3.275225  3.300334  3.488475   \n",
       "11  3.522062  3.494759  3.334251  ...  3.643835  3.256767  3.283039  3.491109   \n",
       "\n",
       "      Q8N729    Q50LG9    O43296    P51164    P33316    O14896  \n",
       "6   3.434507  3.502196   3.47284  3.556785  3.667282  3.462337  \n",
       "7    3.42711  3.511388  3.477531  3.565996  3.634459  3.456981  \n",
       "8   3.497169  3.506761  3.470602  3.552667  3.655164  3.505251  \n",
       "9   3.466742  3.520682  3.500845  3.579271  3.630776  3.417811  \n",
       "11  3.518507  3.532498  3.486715   3.57101  3.637765   3.43084  \n",
       "\n",
       "[5 rows x 6394 columns]"
      ]
     },
     "execution_count": 580,
     "metadata": {},
     "output_type": "execute_result"
    }
   ],
   "source": [
    "df_ad.head()"
   ]
  },
  {
   "cell_type": "code",
   "execution_count": 581,
   "metadata": {},
   "outputs": [
    {
     "data": {
      "text/html": [
       "<div>\n",
       "<style scoped>\n",
       "    .dataframe tbody tr th:only-of-type {\n",
       "        vertical-align: middle;\n",
       "    }\n",
       "\n",
       "    .dataframe tbody tr th {\n",
       "        vertical-align: top;\n",
       "    }\n",
       "\n",
       "    .dataframe thead th {\n",
       "        text-align: right;\n",
       "    }\n",
       "</style>\n",
       "<table border=\"1\" class=\"dataframe\">\n",
       "  <thead>\n",
       "    <tr style=\"text-align: right;\">\n",
       "      <th></th>\n",
       "      <th>protein IDs</th>\n",
       "      <th>P43320</th>\n",
       "      <th>P04049</th>\n",
       "      <th>P51814</th>\n",
       "      <th>P19419</th>\n",
       "      <th>P43080</th>\n",
       "      <th>Q14457</th>\n",
       "      <th>Q01968</th>\n",
       "      <th>O95238</th>\n",
       "      <th>Q99LC4</th>\n",
       "      <th>...</th>\n",
       "      <th>Q7Z408</th>\n",
       "      <th>Q9NYJ7</th>\n",
       "      <th>Q8N3Z0</th>\n",
       "      <th>Q96EC8</th>\n",
       "      <th>Q8N729</th>\n",
       "      <th>Q50LG9</th>\n",
       "      <th>O43296</th>\n",
       "      <th>P51164</th>\n",
       "      <th>P33316</th>\n",
       "      <th>O14896</th>\n",
       "    </tr>\n",
       "  </thead>\n",
       "  <tbody>\n",
       "    <tr>\n",
       "      <th>0</th>\n",
       "      <td>Soma38429</td>\n",
       "      <td>3.39955</td>\n",
       "      <td>3.458494</td>\n",
       "      <td>3.409342</td>\n",
       "      <td>3.353461</td>\n",
       "      <td>3.366757</td>\n",
       "      <td>3.395421</td>\n",
       "      <td>3.505253</td>\n",
       "      <td>3.456582</td>\n",
       "      <td>3.323162</td>\n",
       "      <td>...</td>\n",
       "      <td>3.709157</td>\n",
       "      <td>3.254715</td>\n",
       "      <td>3.279869</td>\n",
       "      <td>3.473957</td>\n",
       "      <td>3.565436</td>\n",
       "      <td>3.501308</td>\n",
       "      <td>3.467126</td>\n",
       "      <td>3.553388</td>\n",
       "      <td>3.655923</td>\n",
       "      <td>3.506077</td>\n",
       "    </tr>\n",
       "    <tr>\n",
       "      <th>1</th>\n",
       "      <td>Soma40545</td>\n",
       "      <td>3.407565</td>\n",
       "      <td>3.438314</td>\n",
       "      <td>3.420048</td>\n",
       "      <td>3.355491</td>\n",
       "      <td>3.384719</td>\n",
       "      <td>3.400851</td>\n",
       "      <td>3.507891</td>\n",
       "      <td>3.468653</td>\n",
       "      <td>3.31612</td>\n",
       "      <td>...</td>\n",
       "      <td>3.666805</td>\n",
       "      <td>3.261653</td>\n",
       "      <td>3.280009</td>\n",
       "      <td>3.481511</td>\n",
       "      <td>3.540239</td>\n",
       "      <td>3.50897</td>\n",
       "      <td>3.47495</td>\n",
       "      <td>3.560672</td>\n",
       "      <td>3.640159</td>\n",
       "      <td>3.512806</td>\n",
       "    </tr>\n",
       "    <tr>\n",
       "      <th>2</th>\n",
       "      <td>Soma41236</td>\n",
       "      <td>3.43894</td>\n",
       "      <td>3.457215</td>\n",
       "      <td>3.418481</td>\n",
       "      <td>3.345257</td>\n",
       "      <td>3.369697</td>\n",
       "      <td>3.392844</td>\n",
       "      <td>3.51095</td>\n",
       "      <td>3.459955</td>\n",
       "      <td>3.33482</td>\n",
       "      <td>...</td>\n",
       "      <td>3.693344</td>\n",
       "      <td>3.266287</td>\n",
       "      <td>3.282945</td>\n",
       "      <td>3.470548</td>\n",
       "      <td>3.494299</td>\n",
       "      <td>3.493608</td>\n",
       "      <td>3.465526</td>\n",
       "      <td>3.556872</td>\n",
       "      <td>3.655398</td>\n",
       "      <td>3.514908</td>\n",
       "    </tr>\n",
       "    <tr>\n",
       "      <th>3</th>\n",
       "      <td>Soma42729</td>\n",
       "      <td>3.398083</td>\n",
       "      <td>3.464614</td>\n",
       "      <td>3.408155</td>\n",
       "      <td>3.34107</td>\n",
       "      <td>3.354961</td>\n",
       "      <td>3.398301</td>\n",
       "      <td>3.515098</td>\n",
       "      <td>3.457675</td>\n",
       "      <td>3.322537</td>\n",
       "      <td>...</td>\n",
       "      <td>3.711913</td>\n",
       "      <td>3.2506</td>\n",
       "      <td>3.272963</td>\n",
       "      <td>3.466623</td>\n",
       "      <td>3.462506</td>\n",
       "      <td>3.490813</td>\n",
       "      <td>3.464252</td>\n",
       "      <td>3.543041</td>\n",
       "      <td>3.658154</td>\n",
       "      <td>3.477899</td>\n",
       "    </tr>\n",
       "    <tr>\n",
       "      <th>4</th>\n",
       "      <td>Soma43738</td>\n",
       "      <td>3.399659</td>\n",
       "      <td>3.423356</td>\n",
       "      <td>3.405651</td>\n",
       "      <td>3.345843</td>\n",
       "      <td>3.363734</td>\n",
       "      <td>3.387565</td>\n",
       "      <td>3.501807</td>\n",
       "      <td>3.462448</td>\n",
       "      <td>3.320511</td>\n",
       "      <td>...</td>\n",
       "      <td>3.653322</td>\n",
       "      <td>3.258888</td>\n",
       "      <td>3.275836</td>\n",
       "      <td>3.466642</td>\n",
       "      <td>3.370976</td>\n",
       "      <td>3.48506</td>\n",
       "      <td>3.461726</td>\n",
       "      <td>3.551424</td>\n",
       "      <td>3.617931</td>\n",
       "      <td>3.506198</td>\n",
       "    </tr>\n",
       "  </tbody>\n",
       "</table>\n",
       "<p>5 rows × 6394 columns</p>\n",
       "</div>"
      ],
      "text/plain": [
       "  protein IDs    P43320    P04049    P51814    P19419    P43080    Q14457  \\\n",
       "0   Soma38429   3.39955  3.458494  3.409342  3.353461  3.366757  3.395421   \n",
       "1   Soma40545  3.407565  3.438314  3.420048  3.355491  3.384719  3.400851   \n",
       "2   Soma41236   3.43894  3.457215  3.418481  3.345257  3.369697  3.392844   \n",
       "3   Soma42729  3.398083  3.464614  3.408155   3.34107  3.354961  3.398301   \n",
       "4   Soma43738  3.399659  3.423356  3.405651  3.345843  3.363734  3.387565   \n",
       "\n",
       "     Q01968    O95238    Q99LC4  ...    Q7Z408    Q9NYJ7    Q8N3Z0    Q96EC8  \\\n",
       "0  3.505253  3.456582  3.323162  ...  3.709157  3.254715  3.279869  3.473957   \n",
       "1  3.507891  3.468653   3.31612  ...  3.666805  3.261653  3.280009  3.481511   \n",
       "2   3.51095  3.459955   3.33482  ...  3.693344  3.266287  3.282945  3.470548   \n",
       "3  3.515098  3.457675  3.322537  ...  3.711913    3.2506  3.272963  3.466623   \n",
       "4  3.501807  3.462448  3.320511  ...  3.653322  3.258888  3.275836  3.466642   \n",
       "\n",
       "     Q8N729    Q50LG9    O43296    P51164    P33316    O14896  \n",
       "0  3.565436  3.501308  3.467126  3.553388  3.655923  3.506077  \n",
       "1  3.540239   3.50897   3.47495  3.560672  3.640159  3.512806  \n",
       "2  3.494299  3.493608  3.465526  3.556872  3.655398  3.514908  \n",
       "3  3.462506  3.490813  3.464252  3.543041  3.658154  3.477899  \n",
       "4  3.370976   3.48506  3.461726  3.551424  3.617931  3.506198  \n",
       "\n",
       "[5 rows x 6394 columns]"
      ]
     },
     "execution_count": 581,
     "metadata": {},
     "output_type": "execute_result"
    }
   ],
   "source": [
    "df_ctl.head()"
   ]
  },
  {
   "cell_type": "code",
   "execution_count": 583,
   "metadata": {},
   "outputs": [
    {
     "data": {
      "text/plain": [
       "(18, 6394)"
      ]
     },
     "execution_count": 583,
     "metadata": {},
     "output_type": "execute_result"
    }
   ],
   "source": [
    "df_ctl_dropped_na = df_ctl.dropna(axis=1, how='all')\n",
    "df_ctl_dropped_na.shape"
   ]
  },
  {
   "cell_type": "code",
   "execution_count": 584,
   "metadata": {},
   "outputs": [
    {
     "data": {
      "text/plain": [
       "(18, 6394)"
      ]
     },
     "execution_count": 584,
     "metadata": {},
     "output_type": "execute_result"
    }
   ],
   "source": [
    "df_ad.shape"
   ]
  },
  {
   "cell_type": "code",
   "execution_count": 585,
   "metadata": {},
   "outputs": [
    {
     "data": {
      "text/plain": [
       "(18, 6394)"
      ]
     },
     "execution_count": 585,
     "metadata": {},
     "output_type": "execute_result"
    }
   ],
   "source": [
    "df_ad_dropped_na = df_ad.dropna(axis=1, how='all')\n",
    "df_ad_dropped_na.shape"
   ]
  },
  {
   "cell_type": "code",
   "execution_count": 586,
   "metadata": {},
   "outputs": [
    {
     "data": {
      "text/plain": [
       "0"
      ]
     },
     "execution_count": 586,
     "metadata": {},
     "output_type": "execute_result"
    }
   ],
   "source": [
    "df_ctl.columns.isna().all().sum()"
   ]
  },
  {
   "cell_type": "code",
   "execution_count": 587,
   "metadata": {},
   "outputs": [
    {
     "data": {
      "text/plain": [
       "0"
      ]
     },
     "execution_count": 587,
     "metadata": {},
     "output_type": "execute_result"
    }
   ],
   "source": [
    "df_ad.columns.isna().all().sum()"
   ]
  },
  {
   "cell_type": "code",
   "execution_count": 588,
   "metadata": {},
   "outputs": [],
   "source": [
    "#Replace nans with 0 if all values in a group are nan\n",
    "\n",
    "for column in df_ad.columns:\n",
    "    if df_ad[column].isna().all():\n",
    "        df_ad.loc[:, column] = 0\n",
    "        \n"
   ]
  },
  {
   "cell_type": "code",
   "execution_count": 589,
   "metadata": {},
   "outputs": [],
   "source": [
    "for column in df_ctl.columns:\n",
    "    if df_ctl[column].isna().all():\n",
    "        df_ctl.loc[:, column] = 0\n",
    "        "
   ]
  },
  {
   "cell_type": "code",
   "execution_count": 590,
   "metadata": {},
   "outputs": [],
   "source": [
    "df_ad.to_csv(r\"C:\\Users\\elvka\\.Desktopreal\\university\\Thesis\\Data\\CSF\\SomaScan\\syn30549757_Somascan_norm_ad.csv\", index=False)"
   ]
  },
  {
   "cell_type": "code",
   "execution_count": 591,
   "metadata": {},
   "outputs": [],
   "source": [
    "df_ctl.to_csv(r\"C:\\Users\\elvka\\.Desktopreal\\university\\Thesis\\Data\\CSF\\SomaScan\\syn30549757_Somascan_norm_ctl.csv\", index=False)"
   ]
  }
 ],
 "metadata": {
  "kernelspec": {
   "display_name": "pydata-book",
   "language": "python",
   "name": "python3"
  },
  "language_info": {
   "codemirror_mode": {
    "name": "ipython",
    "version": 3
   },
   "file_extension": ".py",
   "mimetype": "text/x-python",
   "name": "python",
   "nbconvert_exporter": "python",
   "pygments_lexer": "ipython3",
   "version": "3.10.12"
  }
 },
 "nbformat": 4,
 "nbformat_minor": 2
}
