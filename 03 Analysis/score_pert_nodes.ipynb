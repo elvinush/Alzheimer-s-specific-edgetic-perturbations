{
 "cells": [
  {
   "cell_type": "code",
   "execution_count": 1,
   "metadata": {},
   "outputs": [],
   "source": [
    "#This script analyzes the nodes present in highly perturbed networks\n",
    "\n",
    "import numpy as np\n",
    "import pandas as pd"
   ]
  },
  {
   "cell_type": "code",
   "execution_count": 2,
   "metadata": {},
   "outputs": [],
   "source": [
    "#The nodes in every highly rewired network are read\n",
    "\n",
    "df1 = pd.read_csv(r\"C:\\Users\\elvka\\.Desktopreal\\university\\Thesis\\Data\\Brain\\TMT\\banner\\banner_pert_nodes24_ext.csv\")\n",
    "df2 = pd.read_csv(r\"C:\\Users\\elvka\\.Desktopreal\\university\\Thesis\\Data\\Brain\\TMT\\EmoryBA9\\BA9_pert_nodes25_ext.csv\")\n",
    "df3 = pd.read_csv(r\"C:\\Users\\elvka\\.Desktopreal\\university\\Thesis\\Data\\Brain\\TMT\\EmoryBA24\\BA24_pert_nodes13_ext.csv\")\n",
    "df4 = pd.read_csv(r\"C:\\Users\\elvka\\.Desktopreal\\university\\Thesis\\Data\\Brain\\TMT\\Higginbotham\\Higginbotham_pert_nodes16_ext.csv\")\n",
    "df5 = pd.read_csv(r\"C:\\Users\\elvka\\.Desktopreal\\university\\Thesis\\Data\\Brain\\TMT\\MSBB\\MSBB_pert_nodes17_ext.csv\")\n",
    "df6 = pd.read_csv(r\"C:\\Users\\elvka\\.Desktopreal\\university\\Thesis\\Data\\Brain\\TMT\\Rosmap_r1\\r1_pert_nodes10_ext.csv\")\n",
    "df7 = pd.read_csv(r\"c:\\Users\\elvka\\.Desktopreal\\university\\Thesis\\Data\\Brain\\TMT\\Rosmap_r2\\r2_pert_nodes7.csv\")\n",
    "df8 = pd.read_csv(r\"C:\\Users\\elvka\\.Desktopreal\\university\\Thesis\\Data\\Brain\\TMT\\RosmapBA637\\BA637_pert_nodes25_ext.csv\")\n",
    "df9 = pd.read_csv(r\"C:\\Users\\elvka\\.Desktopreal\\university\\Thesis\\Data\\Brain\\LFQ\\ACT\\ACTL_pert_nodes7.csv\")\n",
    "df10 = pd.read_csv(r\"C:\\Users\\elvka\\.Desktopreal\\university\\Thesis\\Data\\Brain\\LFQ\\banner\\banner_LFQ_pert_nodes7_ext.csv\")\n",
    "df11 = pd.read_csv(r\"C:\\Users\\elvka\\.Desktopreal\\university\\Thesis\\Data\\Brain\\LFQ\\BLSA\\BLSA_pert_nodes30_ext.csv\")\n",
    "df12 = pd.read_csv(r\"C:\\Users\\elvka\\.Desktopreal\\university\\Thesis\\Data\\Brain\\LFQ\\Emory\\emory_LFQ_pert_nodes2.csv\")\n",
    "df13 = pd.read_csv(r\"C:\\Users\\elvka\\.Desktopreal\\university\\Thesis\\Data\\Brain\\LFQ\\MSBB_LFO\\MSBB_LFQ_pert_nodes9.csv\")\n",
    "df14 = pd.read_csv(r\"C:\\Users\\elvka\\.Desktopreal\\university\\Thesis\\Data\\Brain\\LFQ\\Mayo\\mayo_pert_nodes4.csv\")\n",
    "df15 = pd.read_csv(r\"C:\\Users\\elvka\\.Desktopreal\\university\\Thesis\\Data\\Brain\\LFQ\\UPenn\\upenn_pert_nodes34.csv\")\n",
    "df16 = pd.read_csv(r\"C:\\Users\\elvka\\.Desktopreal\\university\\Thesis\\Data\\CSF\\TMT\\syn20821165\\syn208_c1_pert_nodes9.csv\")\n",
    "df17 = pd.read_csv(r\"C:\\Users\\elvka\\.Desktopreal\\university\\Thesis\\Data\\CSF\\TMT\\syn20821165\\syn208_c4_pert_nodes6.csv\")\n",
    "df18 = pd.read_csv(r\"C:\\Users\\elvka\\.Desktopreal\\university\\Thesis\\Data\\CSF\\TMT\\syn20821165\\syn208_disc_pert_nodes15.csv\")\n",
    "df19 = pd.read_csv(r\"C:\\Users\\elvka\\.Desktopreal\\university\\Thesis\\Data\\CSF\\TMT\\syn20933797\\syn209_c1_pert_nodes34.csv\")\n",
    "df20 = pd.read_csv(r\"C:\\Users\\elvka\\.Desktopreal\\university\\Thesis\\Data\\CSF\\TMT\\syn20933797\\syn209_c2_pert_nodes17.csv\")\n",
    "df21 = pd.read_csv(r\"C:\\Users\\elvka\\.Desktopreal\\university\\Thesis\\Data\\CSF\\TMT\\syn30549757\\syn305_dep_pert_nodes12.csv\")\n",
    "df22 = pd.read_csv(r\"C:\\Users\\elvka\\.Desktopreal\\university\\Thesis\\Data\\CSF\\TMT\\syn30549757\\syn305_neat_pert_nodes24.csv\")\n",
    "df23 = pd.read_csv(r\"C:\\Users\\elvka\\.Desktopreal\\university\\Thesis\\Data\\CSF\\TMT\\syn44132374\\syn441_pert_nodes12.csv\")\n",
    "df24 = pd.read_csv(r\"C:\\Users\\elvka\\.Desktopreal\\university\\Thesis\\Data\\CSF\\PEA\\syn30549757\\syn305_PEA_pert_nodes14.csv\")\n",
    "df25 = pd.read_csv(r\"C:\\Users\\elvka\\.Desktopreal\\university\\Thesis\\Data\\CSF\\PEA\\syn52282088\\syn522_PEA_pert_nodes6.csv\")\n",
    "df26 = pd.read_csv(r\"C:\\Users\\elvka\\.Desktopreal\\university\\Thesis\\Data\\CSF\\SomaScan\\soma305_pert_nodes34.csv\")\n"
   ]
  },
  {
   "cell_type": "code",
   "execution_count": 3,
   "metadata": {},
   "outputs": [],
   "source": [
    "#A set is created of all nodes in all networks\n",
    "\n",
    "set1 = set(df1['name'])\n",
    "set2 = set(df2['name'])\n",
    "set3 = set(df3['name'])\n",
    "set4 = set(df4['name'])\n",
    "set5 = set(df5['name'])\n",
    "set6 = set(df6['name'])\n",
    "set7 = set(df7['name'])\n",
    "set8 = set(df8['name'])\n",
    "set9 = set(df9['name'])\n",
    "set10 = set(df10['name'])\n",
    "set11 = set(df11['name'])\n",
    "set12 = set(df12['name'])\n",
    "set13 = set(df13['name'])\n",
    "set14 = set(df14['name'])\n",
    "set15 = set(df15['name'])\n",
    "set16 = set(df16['name'])\n",
    "set17 = set(df17['name'])\n",
    "set18 = set(df18['name'])\n",
    "set19 = set(df19['name'])\n",
    "set20 = set(df20['name'])\n",
    "set21 = set(df21['name'])\n",
    "set22 = set(df22['name'])\n",
    "set23 = set(df23['name'])\n",
    "set24 = set(df24['name'])\n",
    "set25 = set(df25['name'])\n",
    "set26 = set(df26['name'])"
   ]
  },
  {
   "cell_type": "code",
   "execution_count": 4,
   "metadata": {},
   "outputs": [
    {
     "name": "stdout",
     "output_type": "stream",
     "text": [
      "4925\n"
     ]
    }
   ],
   "source": [
    "#All sets are combined to create a global set that includes every protein just once\n",
    "\n",
    "combined_set = set1.union(set2).union(set3).union(set4).union(set5).union(set6).union(set7).union(set8).union(set9).union(set10).union(set11).union(set12).union(set13).union(set14).union(set15).union(set16).union(set17).union(set18).union(set19).union(set20).union(set21).union(set22).union(set23).union(set24).union(set25).union(set26)\n",
    "print(len(combined_set))"
   ]
  },
  {
   "cell_type": "code",
   "execution_count": 5,
   "metadata": {},
   "outputs": [],
   "source": [
    "dfs = [df1, df2, df3, df4, df5, df6, df7, df8, df9, df10, df11, df12, df13, df14, df15, df16, df17, df18, df19, df20, df21, df22, df23, df24, df25, df26]"
   ]
  },
  {
   "cell_type": "code",
   "execution_count": 6,
   "metadata": {},
   "outputs": [
    {
     "data": {
      "text/html": [
       "<div>\n",
       "<style scoped>\n",
       "    .dataframe tbody tr th:only-of-type {\n",
       "        vertical-align: middle;\n",
       "    }\n",
       "\n",
       "    .dataframe tbody tr th {\n",
       "        vertical-align: top;\n",
       "    }\n",
       "\n",
       "    .dataframe thead th {\n",
       "        text-align: right;\n",
       "    }\n",
       "</style>\n",
       "<table border=\"1\" class=\"dataframe\">\n",
       "  <thead>\n",
       "    <tr style=\"text-align: right;\">\n",
       "      <th></th>\n",
       "      <th>Name (SWISS-PROT)</th>\n",
       "      <th>Score</th>\n",
       "    </tr>\n",
       "  </thead>\n",
       "  <tbody>\n",
       "    <tr>\n",
       "      <th>0</th>\n",
       "      <td>P60709</td>\n",
       "      <td>None</td>\n",
       "    </tr>\n",
       "    <tr>\n",
       "      <th>1</th>\n",
       "      <td>P51398</td>\n",
       "      <td>None</td>\n",
       "    </tr>\n",
       "    <tr>\n",
       "      <th>2</th>\n",
       "      <td>P21980</td>\n",
       "      <td>None</td>\n",
       "    </tr>\n",
       "    <tr>\n",
       "      <th>3</th>\n",
       "      <td>O75909</td>\n",
       "      <td>None</td>\n",
       "    </tr>\n",
       "    <tr>\n",
       "      <th>4</th>\n",
       "      <td>Q13114</td>\n",
       "      <td>None</td>\n",
       "    </tr>\n",
       "  </tbody>\n",
       "</table>\n",
       "</div>"
      ],
      "text/plain": [
       "  Name (SWISS-PROT) Score\n",
       "0            P60709  None\n",
       "1            P51398  None\n",
       "2            P21980  None\n",
       "3            O75909  None\n",
       "4            Q13114  None"
      ]
     },
     "execution_count": 6,
     "metadata": {},
     "output_type": "execute_result"
    }
   ],
   "source": [
    "#A dataframe is created from the global set and the column 'Score' is added\n",
    "\n",
    "prot_list = list(combined_set)\n",
    "\n",
    "df = pd.DataFrame(prot_list, columns=['Name (SWISS-PROT)'])\n",
    "df['Score'] = None\n",
    "\n",
    "df.head()"
   ]
  },
  {
   "cell_type": "code",
   "execution_count": 7,
   "metadata": {},
   "outputs": [
    {
     "name": "stdout",
     "output_type": "stream",
     "text": [
      "     Name (SWISS-PROT)  Score\n",
      "0               P60709     16\n",
      "1               P51398      5\n",
      "2               P21980      3\n",
      "3               O75909      1\n",
      "4               Q13114      4\n",
      "...                ...    ...\n",
      "4920            Q9UIW2      1\n",
      "4921            Q13885      2\n",
      "4922            Q08945      6\n",
      "4923              WASL      1\n",
      "4924              BAG2      2\n",
      "\n",
      "[4925 rows x 2 columns]\n"
     ]
    }
   ],
   "source": [
    "#Each node is scored according to how often it appears in each dataset\n",
    "\n",
    "def calculate_score(name, dfs):\n",
    "    score = sum(df['name'].eq(name).sum() for df in dfs)\n",
    "    return score\n",
    "\n",
    "# Calculate and insert the score into the 'Score' column\n",
    "df['Score'] = df['Name (SWISS-PROT)'].apply(lambda name: calculate_score(name, dfs))\n",
    "\n",
    "\n",
    "\n",
    "print(df)\n"
   ]
  },
  {
   "cell_type": "code",
   "execution_count": 8,
   "metadata": {},
   "outputs": [
    {
     "name": "stdout",
     "output_type": "stream",
     "text": [
      "     Name (SWISS-PROT)  Score\n",
      "0               P11021     20\n",
      "1               P63104     19\n",
      "2               P62993     18\n",
      "3               P11279     18\n",
      "4               P61981     18\n",
      "...                ...    ...\n",
      "4920           PPP2R5E      1\n",
      "4921              FLNB      1\n",
      "4922            P49748      1\n",
      "4923            Q07002      1\n",
      "4924            Q14344      1\n",
      "\n",
      "[4925 rows x 2 columns]\n"
     ]
    }
   ],
   "source": [
    "#The nodes are sorted according to their score\n",
    "\n",
    "df = df.sort_values(by='Score', ascending=False)\n",
    "df = df.reset_index(drop=True)\n",
    "print(df)"
   ]
  },
  {
   "cell_type": "code",
   "execution_count": 9,
   "metadata": {},
   "outputs": [
    {
     "data": {
      "text/html": [
       "<div>\n",
       "<style scoped>\n",
       "    .dataframe tbody tr th:only-of-type {\n",
       "        vertical-align: middle;\n",
       "    }\n",
       "\n",
       "    .dataframe tbody tr th {\n",
       "        vertical-align: top;\n",
       "    }\n",
       "\n",
       "    .dataframe thead th {\n",
       "        text-align: right;\n",
       "    }\n",
       "</style>\n",
       "<table border=\"1\" class=\"dataframe\">\n",
       "  <thead>\n",
       "    <tr style=\"text-align: right;\">\n",
       "      <th></th>\n",
       "      <th>name</th>\n",
       "      <th>SWISS-PROT</th>\n",
       "    </tr>\n",
       "  </thead>\n",
       "  <tbody>\n",
       "    <tr>\n",
       "      <th>0</th>\n",
       "      <td>MAP2K4</td>\n",
       "      <td>P45985</td>\n",
       "    </tr>\n",
       "    <tr>\n",
       "      <th>1</th>\n",
       "      <td>GATA2</td>\n",
       "      <td>P23769</td>\n",
       "    </tr>\n",
       "    <tr>\n",
       "      <th>2</th>\n",
       "      <td>RPA2</td>\n",
       "      <td>P15927</td>\n",
       "    </tr>\n",
       "    <tr>\n",
       "      <th>3</th>\n",
       "      <td>ARF1</td>\n",
       "      <td>P84077</td>\n",
       "    </tr>\n",
       "    <tr>\n",
       "      <th>4</th>\n",
       "      <td>ARF3</td>\n",
       "      <td>P61204</td>\n",
       "    </tr>\n",
       "  </tbody>\n",
       "</table>\n",
       "</div>"
      ],
      "text/plain": [
       "     name SWISS-PROT\n",
       "0  MAP2K4     P45985\n",
       "1   GATA2     P23769\n",
       "2    RPA2     P15927\n",
       "3    ARF1     P84077\n",
       "4    ARF3     P61204"
      ]
     },
     "execution_count": 9,
     "metadata": {},
     "output_type": "execute_result"
    }
   ],
   "source": [
    "#The key is a dataframe that contains Gene IDs and their matching SWISS-PROT Accessions Numbers. The following steps simply extend the scored dataset of nodes to both naming systems\n",
    "\n",
    "key = pd.read_csv(r\"C:\\Users\\elvka\\.Desktopreal\\university\\Thesis\\Data\\key_genename_swissprot.csv\")\n",
    "\n",
    "key.head()"
   ]
  },
  {
   "cell_type": "code",
   "execution_count": 10,
   "metadata": {},
   "outputs": [
    {
     "data": {
      "text/html": [
       "<div>\n",
       "<style scoped>\n",
       "    .dataframe tbody tr th:only-of-type {\n",
       "        vertical-align: middle;\n",
       "    }\n",
       "\n",
       "    .dataframe tbody tr th {\n",
       "        vertical-align: top;\n",
       "    }\n",
       "\n",
       "    .dataframe thead th {\n",
       "        text-align: right;\n",
       "    }\n",
       "</style>\n",
       "<table border=\"1\" class=\"dataframe\">\n",
       "  <thead>\n",
       "    <tr style=\"text-align: right;\">\n",
       "      <th></th>\n",
       "      <th>Name (SWISS-PROT)</th>\n",
       "      <th>Score</th>\n",
       "      <th>name</th>\n",
       "      <th>SWISS-PROT</th>\n",
       "    </tr>\n",
       "  </thead>\n",
       "  <tbody>\n",
       "    <tr>\n",
       "      <th>0</th>\n",
       "      <td>P11021</td>\n",
       "      <td>20</td>\n",
       "      <td>HSPA5</td>\n",
       "      <td>P11021</td>\n",
       "    </tr>\n",
       "    <tr>\n",
       "      <th>1</th>\n",
       "      <td>P63104</td>\n",
       "      <td>19</td>\n",
       "      <td>YWHAZ</td>\n",
       "      <td>P63104</td>\n",
       "    </tr>\n",
       "    <tr>\n",
       "      <th>2</th>\n",
       "      <td>P62993</td>\n",
       "      <td>18</td>\n",
       "      <td>GRB2</td>\n",
       "      <td>P62993</td>\n",
       "    </tr>\n",
       "    <tr>\n",
       "      <th>3</th>\n",
       "      <td>P11279</td>\n",
       "      <td>18</td>\n",
       "      <td>LAMP1</td>\n",
       "      <td>P11279</td>\n",
       "    </tr>\n",
       "    <tr>\n",
       "      <th>4</th>\n",
       "      <td>P61981</td>\n",
       "      <td>18</td>\n",
       "      <td>YWHAG</td>\n",
       "      <td>P61981</td>\n",
       "    </tr>\n",
       "  </tbody>\n",
       "</table>\n",
       "</div>"
      ],
      "text/plain": [
       "  Name (SWISS-PROT)  Score   name SWISS-PROT\n",
       "0            P11021     20  HSPA5     P11021\n",
       "1            P63104     19  YWHAZ     P63104\n",
       "2            P62993     18   GRB2     P62993\n",
       "3            P11279     18  LAMP1     P11279\n",
       "4            P61981     18  YWHAG     P61981"
      ]
     },
     "execution_count": 10,
     "metadata": {},
     "output_type": "execute_result"
    }
   ],
   "source": [
    "df = pd.merge(df, key, left_on = 'Name (SWISS-PROT)', right_on = 'SWISS-PROT', how = 'left')\n",
    "\n",
    "\n",
    "\n",
    "df.head()"
   ]
  },
  {
   "cell_type": "code",
   "execution_count": 11,
   "metadata": {},
   "outputs": [],
   "source": [
    "df.drop(columns='SWISS-PROT', inplace=True)\n"
   ]
  },
  {
   "cell_type": "code",
   "execution_count": 12,
   "metadata": {},
   "outputs": [
    {
     "data": {
      "text/html": [
       "<div>\n",
       "<style scoped>\n",
       "    .dataframe tbody tr th:only-of-type {\n",
       "        vertical-align: middle;\n",
       "    }\n",
       "\n",
       "    .dataframe tbody tr th {\n",
       "        vertical-align: top;\n",
       "    }\n",
       "\n",
       "    .dataframe thead th {\n",
       "        text-align: right;\n",
       "    }\n",
       "</style>\n",
       "<table border=\"1\" class=\"dataframe\">\n",
       "  <thead>\n",
       "    <tr style=\"text-align: right;\">\n",
       "      <th></th>\n",
       "      <th>Name (SWISS-PROT)</th>\n",
       "      <th>Score</th>\n",
       "      <th>Official Symbol Interactor</th>\n",
       "    </tr>\n",
       "  </thead>\n",
       "  <tbody>\n",
       "    <tr>\n",
       "      <th>0</th>\n",
       "      <td>P11021</td>\n",
       "      <td>20</td>\n",
       "      <td>HSPA5</td>\n",
       "    </tr>\n",
       "    <tr>\n",
       "      <th>1</th>\n",
       "      <td>P63104</td>\n",
       "      <td>19</td>\n",
       "      <td>YWHAZ</td>\n",
       "    </tr>\n",
       "    <tr>\n",
       "      <th>2</th>\n",
       "      <td>P62993</td>\n",
       "      <td>18</td>\n",
       "      <td>GRB2</td>\n",
       "    </tr>\n",
       "    <tr>\n",
       "      <th>3</th>\n",
       "      <td>P11279</td>\n",
       "      <td>18</td>\n",
       "      <td>LAMP1</td>\n",
       "    </tr>\n",
       "    <tr>\n",
       "      <th>4</th>\n",
       "      <td>P61981</td>\n",
       "      <td>18</td>\n",
       "      <td>YWHAG</td>\n",
       "    </tr>\n",
       "  </tbody>\n",
       "</table>\n",
       "</div>"
      ],
      "text/plain": [
       "  Name (SWISS-PROT)  Score Official Symbol Interactor\n",
       "0            P11021     20                      HSPA5\n",
       "1            P63104     19                      YWHAZ\n",
       "2            P62993     18                       GRB2\n",
       "3            P11279     18                      LAMP1\n",
       "4            P61981     18                      YWHAG"
      ]
     },
     "execution_count": 12,
     "metadata": {},
     "output_type": "execute_result"
    }
   ],
   "source": [
    "df.rename(columns={'name': 'Official Symbol Interactor'}, inplace=True)\n",
    "\n",
    "df.head()"
   ]
  },
  {
   "cell_type": "code",
   "execution_count": 13,
   "metadata": {},
   "outputs": [
    {
     "data": {
      "text/html": [
       "<div>\n",
       "<style scoped>\n",
       "    .dataframe tbody tr th:only-of-type {\n",
       "        vertical-align: middle;\n",
       "    }\n",
       "\n",
       "    .dataframe tbody tr th {\n",
       "        vertical-align: top;\n",
       "    }\n",
       "\n",
       "    .dataframe thead th {\n",
       "        text-align: right;\n",
       "    }\n",
       "</style>\n",
       "<table border=\"1\" class=\"dataframe\">\n",
       "  <thead>\n",
       "    <tr style=\"text-align: right;\">\n",
       "      <th></th>\n",
       "      <th>Name (SWISS-PROT)</th>\n",
       "      <th>Official Symbol Interactor</th>\n",
       "      <th>Score</th>\n",
       "    </tr>\n",
       "  </thead>\n",
       "  <tbody>\n",
       "    <tr>\n",
       "      <th>0</th>\n",
       "      <td>P11021</td>\n",
       "      <td>HSPA5</td>\n",
       "      <td>20</td>\n",
       "    </tr>\n",
       "    <tr>\n",
       "      <th>1</th>\n",
       "      <td>P63104</td>\n",
       "      <td>YWHAZ</td>\n",
       "      <td>19</td>\n",
       "    </tr>\n",
       "    <tr>\n",
       "      <th>2</th>\n",
       "      <td>P62993</td>\n",
       "      <td>GRB2</td>\n",
       "      <td>18</td>\n",
       "    </tr>\n",
       "    <tr>\n",
       "      <th>3</th>\n",
       "      <td>P11279</td>\n",
       "      <td>LAMP1</td>\n",
       "      <td>18</td>\n",
       "    </tr>\n",
       "    <tr>\n",
       "      <th>4</th>\n",
       "      <td>P61981</td>\n",
       "      <td>YWHAG</td>\n",
       "      <td>18</td>\n",
       "    </tr>\n",
       "  </tbody>\n",
       "</table>\n",
       "</div>"
      ],
      "text/plain": [
       "  Name (SWISS-PROT) Official Symbol Interactor  Score\n",
       "0            P11021                      HSPA5     20\n",
       "1            P63104                      YWHAZ     19\n",
       "2            P62993                       GRB2     18\n",
       "3            P11279                      LAMP1     18\n",
       "4            P61981                      YWHAG     18"
      ]
     },
     "execution_count": 13,
     "metadata": {},
     "output_type": "execute_result"
    }
   ],
   "source": [
    "df = df[['Name (SWISS-PROT)', 'Official Symbol Interactor', 'Score']]\n",
    "\n",
    "df.head()"
   ]
  },
  {
   "cell_type": "code",
   "execution_count": 14,
   "metadata": {},
   "outputs": [],
   "source": [
    "df.to_csv(r\"C:\\Users\\elvka\\.Desktopreal\\university\\Thesis\\Data\\nodes_of_interest.csv\", index = False)"
   ]
  },
  {
   "cell_type": "code",
   "execution_count": 15,
   "metadata": {},
   "outputs": [
    {
     "name": "stdout",
     "output_type": "stream",
     "text": [
      "4959\n"
     ]
    }
   ],
   "source": [
    "print(len(df))"
   ]
  },
  {
   "cell_type": "code",
   "execution_count": 17,
   "metadata": {},
   "outputs": [
    {
     "name": "stdout",
     "output_type": "stream",
     "text": [
      "13143\n",
      "505.5\n"
     ]
    }
   ],
   "source": [
    "#Measure total amount of nodes in rewired networks and average size of network\n",
    "\n",
    "sum_nodes = 0\n",
    "for df in dfs:\n",
    "    sum_nodes = sum_nodes + len(df)\n",
    "\n",
    "average = sum_nodes/26\n",
    "\n",
    "print(sum_nodes)\n",
    "print(average)"
   ]
  },
  {
   "cell_type": "code",
   "execution_count": null,
   "metadata": {},
   "outputs": [],
   "source": []
  }
 ],
 "metadata": {
  "kernelspec": {
   "display_name": "pydata-book",
   "language": "python",
   "name": "python3"
  },
  "language_info": {
   "codemirror_mode": {
    "name": "ipython",
    "version": 3
   },
   "file_extension": ".py",
   "mimetype": "text/x-python",
   "name": "python",
   "nbconvert_exporter": "python",
   "pygments_lexer": "ipython3",
   "version": "3.10.12"
  }
 },
 "nbformat": 4,
 "nbformat_minor": 2
}
