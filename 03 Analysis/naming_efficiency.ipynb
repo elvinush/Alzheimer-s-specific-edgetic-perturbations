{
 "cells": [
  {
   "cell_type": "code",
   "execution_count": 227,
   "metadata": {},
   "outputs": [],
   "source": [
    "#This code determines how efficient the mapping of abundance data of a study onto the global PPIN is\n",
    "\n",
    "import numpy as np\n",
    "import pandas as pd"
   ]
  },
  {
   "cell_type": "code",
   "execution_count": 228,
   "metadata": {},
   "outputs": [
    {
     "data": {
      "text/html": [
       "<div>\n",
       "<style scoped>\n",
       "    .dataframe tbody tr th:only-of-type {\n",
       "        vertical-align: middle;\n",
       "    }\n",
       "\n",
       "    .dataframe tbody tr th {\n",
       "        vertical-align: top;\n",
       "    }\n",
       "\n",
       "    .dataframe thead th {\n",
       "        text-align: right;\n",
       "    }\n",
       "</style>\n",
       "<table border=\"1\" class=\"dataframe\">\n",
       "  <thead>\n",
       "    <tr style=\"text-align: right;\">\n",
       "      <th></th>\n",
       "      <th>name</th>\n",
       "      <th>SWISS-PROT</th>\n",
       "    </tr>\n",
       "  </thead>\n",
       "  <tbody>\n",
       "    <tr>\n",
       "      <th>0</th>\n",
       "      <td>MAP2K4</td>\n",
       "      <td>P45985</td>\n",
       "    </tr>\n",
       "    <tr>\n",
       "      <th>1</th>\n",
       "      <td>GATA2</td>\n",
       "      <td>P23769</td>\n",
       "    </tr>\n",
       "    <tr>\n",
       "      <th>2</th>\n",
       "      <td>RPA2</td>\n",
       "      <td>P15927</td>\n",
       "    </tr>\n",
       "    <tr>\n",
       "      <th>3</th>\n",
       "      <td>ARF1</td>\n",
       "      <td>P84077</td>\n",
       "    </tr>\n",
       "    <tr>\n",
       "      <th>4</th>\n",
       "      <td>ARF3</td>\n",
       "      <td>P61204</td>\n",
       "    </tr>\n",
       "  </tbody>\n",
       "</table>\n",
       "</div>"
      ],
      "text/plain": [
       "     name SWISS-PROT\n",
       "0  MAP2K4     P45985\n",
       "1   GATA2     P23769\n",
       "2    RPA2     P15927\n",
       "3    ARF1     P84077\n",
       "4    ARF3     P61204"
      ]
     },
     "execution_count": 228,
     "metadata": {},
     "output_type": "execute_result"
    }
   ],
   "source": [
    "#Read the key. The key is a dataset that contains the Gene IDs and SWISS-PROT Accessions Numbers of every protein in the global PPIN\n",
    "\n",
    "df = pd.read_csv(r\"C:\\Users\\elvka\\.Desktopreal\\university\\Thesis\\Data\\key_genename_swissprot.csv\")\n",
    "\n",
    "df.head()"
   ]
  },
  {
   "cell_type": "code",
   "execution_count": 229,
   "metadata": {},
   "outputs": [
    {
     "data": {
      "text/html": [
       "<div>\n",
       "<style scoped>\n",
       "    .dataframe tbody tr th:only-of-type {\n",
       "        vertical-align: middle;\n",
       "    }\n",
       "\n",
       "    .dataframe tbody tr th {\n",
       "        vertical-align: top;\n",
       "    }\n",
       "\n",
       "    .dataframe thead th {\n",
       "        text-align: right;\n",
       "    }\n",
       "</style>\n",
       "<table border=\"1\" class=\"dataframe\">\n",
       "  <thead>\n",
       "    <tr style=\"text-align: right;\">\n",
       "      <th></th>\n",
       "      <th>Official Symbol Interactor</th>\n",
       "      <th>Abundance_AD</th>\n",
       "    </tr>\n",
       "  </thead>\n",
       "  <tbody>\n",
       "    <tr>\n",
       "      <th>0</th>\n",
       "      <td>P43320</td>\n",
       "      <td>3.414364</td>\n",
       "    </tr>\n",
       "    <tr>\n",
       "      <th>1</th>\n",
       "      <td>P04049</td>\n",
       "      <td>3.460604</td>\n",
       "    </tr>\n",
       "    <tr>\n",
       "      <th>2</th>\n",
       "      <td>P51814</td>\n",
       "      <td>3.422332</td>\n",
       "    </tr>\n",
       "    <tr>\n",
       "      <th>3</th>\n",
       "      <td>P19419</td>\n",
       "      <td>3.349322</td>\n",
       "    </tr>\n",
       "    <tr>\n",
       "      <th>4</th>\n",
       "      <td>P43080</td>\n",
       "      <td>3.375979</td>\n",
       "    </tr>\n",
       "  </tbody>\n",
       "</table>\n",
       "</div>"
      ],
      "text/plain": [
       "  Official Symbol Interactor  Abundance_AD\n",
       "0                     P43320      3.414364\n",
       "1                     P04049      3.460604\n",
       "2                     P51814      3.422332\n",
       "3                     P19419      3.349322\n",
       "4                     P43080      3.375979"
      ]
     },
     "execution_count": 229,
     "metadata": {},
     "output_type": "execute_result"
    }
   ],
   "source": [
    "#Read both the regular dataset (d1) and the exploded, averaged dataset (d2)\n",
    "\n",
    "df1 = pd.read_csv(r\"C:\\Users\\elvka\\.Desktopreal\\university\\Thesis\\Data\\CSF\\SomaScan\\syn30549757_Somascan_imp_ad.csv\")\n",
    "df2 = pd.read_csv(r\"C:\\Users\\elvka\\.Desktopreal\\university\\Thesis\\Data\\CSF\\SomaScan\\syn30549757_Somascan_ad_means.csv\")\n",
    "\n",
    "df2.head()"
   ]
  },
  {
   "cell_type": "code",
   "execution_count": 230,
   "metadata": {},
   "outputs": [
    {
     "name": "stdout",
     "output_type": "stream",
     "text": [
      "Protein entries in study:  6394\n"
     ]
    }
   ],
   "source": [
    "#This shows how many unique proteins are in a specific dataset\n",
    "\n",
    "print('Protein entries in study: ', df1.shape[1])"
   ]
  },
  {
   "cell_type": "code",
   "execution_count": 231,
   "metadata": {},
   "outputs": [
    {
     "name": "stdout",
     "output_type": "stream",
     "text": [
      "0\n"
     ]
    }
   ],
   "source": [
    "#This step maps all proteins that were named by their Gene ID onto the key\n",
    "\n",
    "df3 = pd.merge(df, df2, left_on='name', right_on='Official Symbol Interactor', how='inner')\n",
    "\n",
    "print(len(df3))"
   ]
  },
  {
   "cell_type": "code",
   "execution_count": 232,
   "metadata": {},
   "outputs": [
    {
     "name": "stdout",
     "output_type": "stream",
     "text": [
      "3956\n"
     ]
    }
   ],
   "source": [
    "#This step maps all proteins that were named by their SWISS PROT Accessions Number onto the key\n",
    "\n",
    "df4 = pd.merge(df, df2, left_on='SWISS-PROT', right_on='Official Symbol Interactor', how='inner')\n",
    "\n",
    "print(len(df4))"
   ]
  },
  {
   "cell_type": "code",
   "execution_count": 233,
   "metadata": {},
   "outputs": [],
   "source": [
    "#This step compares if the mapping with Gene ID or with SWISS-PROT was more successful. \n",
    "\n",
    "if len(df3) > len(df4):\n",
    "    better_mapping = df3\n",
    "elif len(df3) < len(df4):\n",
    "    better_mapping = df4"
   ]
  },
  {
   "cell_type": "code",
   "execution_count": 234,
   "metadata": {},
   "outputs": [
    {
     "name": "stdout",
     "output_type": "stream",
     "text": [
      "Mapping efficiency:  61\n"
     ]
    }
   ],
   "source": [
    "#This step then calculates the mapping efficiency by comparing the number of successfully mapped proteins to the number of proteins originally in the dataset.\n",
    "\n",
    "print('Mapping efficiency: ', int((len(better_mapping)/df1.shape[1])*100))"
   ]
  }
 ],
 "metadata": {
  "kernelspec": {
   "display_name": "pydata-book",
   "language": "python",
   "name": "python3"
  },
  "language_info": {
   "codemirror_mode": {
    "name": "ipython",
    "version": 3
   },
   "file_extension": ".py",
   "mimetype": "text/x-python",
   "name": "python",
   "nbconvert_exporter": "python",
   "pygments_lexer": "ipython3",
   "version": "3.10.12"
  }
 },
 "nbformat": 4,
 "nbformat_minor": 2
}
